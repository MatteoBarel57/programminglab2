{
 "cells": [
  {
   "cell_type": "markdown",
   "id": "6a111c9a",
   "metadata": {},
   "source": [
    "# **ESERCIZI LEZIONE 7**"
   ]
  },
  {
   "cell_type": "markdown",
   "id": "ae440cd0",
   "metadata": {},
   "source": [
    "### ***1.***"
   ]
  },
  {
   "cell_type": "code",
   "execution_count": 1,
   "id": "291314b1",
   "metadata": {},
   "outputs": [
    {
     "data": {
      "text/html": [
       "<div>\n",
       "<style scoped>\n",
       "    .dataframe tbody tr th:only-of-type {\n",
       "        vertical-align: middle;\n",
       "    }\n",
       "\n",
       "    .dataframe tbody tr th {\n",
       "        vertical-align: top;\n",
       "    }\n",
       "\n",
       "    .dataframe thead th {\n",
       "        text-align: right;\n",
       "    }\n",
       "</style>\n",
       "<table border=\"1\" class=\"dataframe\">\n",
       "  <thead>\n",
       "    <tr style=\"text-align: right;\">\n",
       "      <th></th>\n",
       "      <th>date</th>\n",
       "      <th>passengers</th>\n",
       "    </tr>\n",
       "  </thead>\n",
       "  <tbody>\n",
       "    <tr>\n",
       "      <th>0</th>\n",
       "      <td>1949-01</td>\n",
       "      <td>112.0</td>\n",
       "    </tr>\n",
       "    <tr>\n",
       "      <th>1</th>\n",
       "      <td>1949-02</td>\n",
       "      <td>118.0</td>\n",
       "    </tr>\n",
       "    <tr>\n",
       "      <th>2</th>\n",
       "      <td>1949-03</td>\n",
       "      <td>132.0</td>\n",
       "    </tr>\n",
       "    <tr>\n",
       "      <th>3</th>\n",
       "      <td>1949-04</td>\n",
       "      <td>129.0</td>\n",
       "    </tr>\n",
       "    <tr>\n",
       "      <th>4</th>\n",
       "      <td>1949-05</td>\n",
       "      <td>121.0</td>\n",
       "    </tr>\n",
       "    <tr>\n",
       "      <th>...</th>\n",
       "      <td>...</td>\n",
       "      <td>...</td>\n",
       "    </tr>\n",
       "    <tr>\n",
       "      <th>127</th>\n",
       "      <td>1960-08</td>\n",
       "      <td>606.0</td>\n",
       "    </tr>\n",
       "    <tr>\n",
       "      <th>128</th>\n",
       "      <td>1960-09</td>\n",
       "      <td>508.0</td>\n",
       "    </tr>\n",
       "    <tr>\n",
       "      <th>129</th>\n",
       "      <td>1960-10</td>\n",
       "      <td>461.0</td>\n",
       "    </tr>\n",
       "    <tr>\n",
       "      <th>130</th>\n",
       "      <td>1960-11</td>\n",
       "      <td>NaN</td>\n",
       "    </tr>\n",
       "    <tr>\n",
       "      <th>131</th>\n",
       "      <td>1960-12</td>\n",
       "      <td>432.0</td>\n",
       "    </tr>\n",
       "  </tbody>\n",
       "</table>\n",
       "<p>132 rows × 2 columns</p>\n",
       "</div>"
      ],
      "text/plain": [
       "        date  passengers\n",
       "0    1949-01       112.0\n",
       "1    1949-02       118.0\n",
       "2    1949-03       132.0\n",
       "3    1949-04       129.0\n",
       "4    1949-05       121.0\n",
       "..       ...         ...\n",
       "127  1960-08       606.0\n",
       "128  1960-09       508.0\n",
       "129  1960-10       461.0\n",
       "130  1960-11         NaN\n",
       "131  1960-12       432.0\n",
       "\n",
       "[132 rows x 2 columns]"
      ]
     },
     "execution_count": 1,
     "metadata": {},
     "output_type": "execute_result"
    }
   ],
   "source": [
    "import pandas as pd\n",
    "\n",
    "df = pd.read_csv(\"data.csv\")\n",
    "df"
   ]
  },
  {
   "cell_type": "code",
   "execution_count": 2,
   "id": "fac18b6b",
   "metadata": {},
   "outputs": [
    {
     "data": {
      "text/html": [
       "<div>\n",
       "<style scoped>\n",
       "    .dataframe tbody tr th:only-of-type {\n",
       "        vertical-align: middle;\n",
       "    }\n",
       "\n",
       "    .dataframe tbody tr th {\n",
       "        vertical-align: top;\n",
       "    }\n",
       "\n",
       "    .dataframe thead th {\n",
       "        text-align: right;\n",
       "    }\n",
       "</style>\n",
       "<table border=\"1\" class=\"dataframe\">\n",
       "  <thead>\n",
       "    <tr style=\"text-align: right;\">\n",
       "      <th></th>\n",
       "      <th>date</th>\n",
       "      <th>passengers</th>\n",
       "      <th>mese_numerico</th>\n",
       "    </tr>\n",
       "  </thead>\n",
       "  <tbody>\n",
       "    <tr>\n",
       "      <th>0</th>\n",
       "      <td>1949-01-01</td>\n",
       "      <td>112.0</td>\n",
       "      <td>1</td>\n",
       "    </tr>\n",
       "    <tr>\n",
       "      <th>1</th>\n",
       "      <td>1949-02-01</td>\n",
       "      <td>118.0</td>\n",
       "      <td>2</td>\n",
       "    </tr>\n",
       "    <tr>\n",
       "      <th>2</th>\n",
       "      <td>1949-03-01</td>\n",
       "      <td>132.0</td>\n",
       "      <td>3</td>\n",
       "    </tr>\n",
       "    <tr>\n",
       "      <th>3</th>\n",
       "      <td>1949-04-01</td>\n",
       "      <td>129.0</td>\n",
       "      <td>4</td>\n",
       "    </tr>\n",
       "    <tr>\n",
       "      <th>4</th>\n",
       "      <td>1949-05-01</td>\n",
       "      <td>121.0</td>\n",
       "      <td>5</td>\n",
       "    </tr>\n",
       "    <tr>\n",
       "      <th>...</th>\n",
       "      <td>...</td>\n",
       "      <td>...</td>\n",
       "      <td>...</td>\n",
       "    </tr>\n",
       "    <tr>\n",
       "      <th>57</th>\n",
       "      <td>1953-10-01</td>\n",
       "      <td>211.0</td>\n",
       "      <td>58</td>\n",
       "    </tr>\n",
       "    <tr>\n",
       "      <th>58</th>\n",
       "      <td>1953-11-01</td>\n",
       "      <td>180.0</td>\n",
       "      <td>59</td>\n",
       "    </tr>\n",
       "    <tr>\n",
       "      <th>59</th>\n",
       "      <td>1953-12-01</td>\n",
       "      <td>201.0</td>\n",
       "      <td>60</td>\n",
       "    </tr>\n",
       "    <tr>\n",
       "      <th>60</th>\n",
       "      <td>1955-01-01</td>\n",
       "      <td>242.0</td>\n",
       "      <td>73</td>\n",
       "    </tr>\n",
       "    <tr>\n",
       "      <th>61</th>\n",
       "      <td>1955-02-01</td>\n",
       "      <td>233.0</td>\n",
       "      <td>74</td>\n",
       "    </tr>\n",
       "  </tbody>\n",
       "</table>\n",
       "<p>62 rows × 3 columns</p>\n",
       "</div>"
      ],
      "text/plain": [
       "         date  passengers  mese_numerico\n",
       "0  1949-01-01       112.0              1\n",
       "1  1949-02-01       118.0              2\n",
       "2  1949-03-01       132.0              3\n",
       "3  1949-04-01       129.0              4\n",
       "4  1949-05-01       121.0              5\n",
       "..        ...         ...            ...\n",
       "57 1953-10-01       211.0             58\n",
       "58 1953-11-01       180.0             59\n",
       "59 1953-12-01       201.0             60\n",
       "60 1955-01-01       242.0             73\n",
       "61 1955-02-01       233.0             74\n",
       "\n",
       "[62 rows x 3 columns]"
      ]
     },
     "execution_count": 2,
     "metadata": {},
     "output_type": "execute_result"
    }
   ],
   "source": [
    "df['date'] = pd.to_datetime(df['date'])\n",
    "df['mese_numerico'] = (df['date'].dt.year - 1949) * 12 + df['date'].dt.month\n",
    "df.head(62)"
   ]
  },
  {
   "cell_type": "code",
   "execution_count": 3,
   "id": "d7b1a777",
   "metadata": {},
   "outputs": [],
   "source": [
    "from sklearn.model_selection import train_test_split\n",
    "from sklearn.linear_model import LinearRegression\n",
    "\n",
    "from sklearn.preprocessing import PolynomialFeatures\n",
    "from sklearn.pipeline import make_pipeline\n",
    "\n",
    "X = df[[\"mese_numerico\"]].values\n",
    "\n",
    "y = df[\"passengers\"].values\n",
    "\n",
    "X_train, X_test, y_train, y_test = train_test_split(X, y, train_size=67, shuffle=False)\n",
    "\n",
    "model_linear = LinearRegression()\n",
    "model_linear.fit(X_train, y_train)\n",
    "y_pred_linear = model_linear.predict(X_test)\n",
    "\n",
    "model_poly2 = make_pipeline(PolynomialFeatures(2), LinearRegression())\n",
    "model_poly2.fit(X_train, y_train)\n",
    "y_pred_poly2 = model_poly2.predict(X_test)"
   ]
  },
  {
   "cell_type": "code",
   "execution_count": 4,
   "id": "d5b2a7e6",
   "metadata": {},
   "outputs": [
    {
     "data": {
      "text/plain": [
       "88.37159082036491"
      ]
     },
     "execution_count": 4,
     "metadata": {},
     "output_type": "execute_result"
    }
   ],
   "source": [
    "import numpy as np\n",
    "from sklearn.metrics import root_mean_squared_error\n",
    "\n",
    "y_test_filled = np.nan_to_num(y_test, nan=0.0)\n",
    "y_pred_linear_filled = np.nan_to_num(y_pred_linear, nan=0.0)\n",
    "\n",
    "rmse_poly2 =  root_mean_squared_error(y_test_filled, y_pred_linear_filled)\n",
    "rmse_poly2"
   ]
  },
  {
   "cell_type": "code",
   "execution_count": 5,
   "id": "6ab512de",
   "metadata": {},
   "outputs": [
    {
     "data": {
      "image/png": "[encoded data removed]",
      "text/plain": [
       "<Figure size 640x480 with 1 Axes>"
      ]
     },
     "metadata": {},
     "output_type": "display_data"
    }
   ],
   "source": [
    "import matplotlib.pyplot as plt\n",
    "\n",
    "plt.scatter(X, y, label=\"Dati reali\")\n",
    "plt.plot(X_test, y_pred_poly2, label=f\"Polinomiale grado 2\", color = \"red\")\n",
    "plt.xlabel(\"Indice Mese\")\n",
    "plt.ylabel(\"Vendite\")\n",
    "plt.legend()\n",
    "plt.grid(True)\n",
    "plt.show()"
   ]
  },
  {
   "cell_type": "markdown",
   "id": "1ae366cf",
   "metadata": {},
   "source": [
    "### ***2.***"
   ]
  },
  {
   "cell_type": "code",
   "execution_count": 6,
   "id": "79bad017",
   "metadata": {},
   "outputs": [
    {
     "data": {
      "text/html": [
       "\n",
       "        <iframe\n",
       "            width=\"100%\"\n",
       "            height=\"650\"\n",
       "            src=\"http://127.0.0.1:8050/\"\n",
       "            frameborder=\"0\"\n",
       "            allowfullscreen\n",
       "            \n",
       "        ></iframe>\n",
       "        "
      ],
      "text/plain": [
       "<IPython.lib.display.IFrame at 0x259c9ea3b20>"
      ]
     },
     "metadata": {},
     "output_type": "display_data"
    }
   ],
   "source": [
    "import dash\n",
    "from dash import dcc, html\n",
    "from dash.dependencies import Input, Output\n",
    "import numpy as np\n",
    "from sklearn.preprocessing import PolynomialFeatures\n",
    "from sklearn.linear_model import LinearRegression\n",
    "import plotly.graph_objects as go\n",
    "\n",
    "np.random.seed(0)\n",
    "X = np.linspace(-3, 3, 100).reshape(-1, 1)\n",
    "y = X[:, 0]**3 - X[:, 0] + np.random.normal(0, 3, size=100)\n",
    "\n",
    "app = dash.Dash(__name__)\n",
    "app.layout = html.Div([\n",
    "    dcc.Slider(id=\"grado\", min=1, max=10, step=1, value=3,\n",
    "               marks={i: str(i) for i in range(1, 11)}),\n",
    "    dcc.Graph(id=\"grafico\")\n",
    "])\n",
    "\n",
    "@app.callback(\n",
    "    Output(\"grafico\", \"figure\"),\n",
    "    Input(\"grado\", \"value\")\n",
    ")\n",
    "\n",
    "def aggiorna(grado):\n",
    "    poly = PolynomialFeatures(degree=grado)\n",
    "    X_poly = poly.fit_transform(X)\n",
    "    model = LinearRegression().fit(X_poly, y)\n",
    "\n",
    "    X_grid = np.linspace(-3, 3, 300).reshape(-1, 1)\n",
    "    y_pred = model.predict(poly.transform(X_grid))\n",
    "\n",
    "    fig = go.Figure()\n",
    "    fig.add_trace(go.Scatter(x=X[:, 0], y=y, mode=\"markers\", name=\"Dati\"))\n",
    "    fig.add_trace(go.Scatter(x=X_grid[:, 0], y=y_pred, mode=\"lines\", name=f\"Grado {grado}\"))\n",
    "    return fig\n",
    "\n",
    "if __name__ == \"__main__\":\n",
    "    app.run(debug=True)"
   ]
  }
 ],
 "metadata": {
  "kernelspec": {
   "display_name": "ProgrammingLab2",
   "language": "python",
   "name": "python3"
  },
  "language_info": {
   "codemirror_mode": {
    "name": "ipython",
    "version": 3
   },
   "file_extension": ".py",
   "mimetype": "text/x-python",
   "name": "python",
   "nbconvert_exporter": "python",
   "pygments_lexer": "ipython3",
   "version": "3.10.16"
  }
 },
 "nbformat": 4,
 "nbformat_minor": 5
}
