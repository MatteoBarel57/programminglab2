{
 "cells": [
  {
   "cell_type": "markdown",
   "id": "b0de6769",
   "metadata": {},
   "source": [
    "# **ESERCIZI LEZIONE 6**"
   ]
  },
  {
   "cell_type": "markdown",
   "id": "13da0eae",
   "metadata": {},
   "source": [
    "### ***1. DISTRIBUZIONE DI PROBABILITA'***"
   ]
  },
  {
   "cell_type": "code",
   "execution_count": null,
   "id": "a4170436",
   "metadata": {},
   "outputs": [],
   "source": []
  },
  {
   "cell_type": "code",
   "execution_count": null,
   "id": "5d892161",
   "metadata": {},
   "outputs": [],
   "source": [
    "\n"
   ]
  },
  {
   "cell_type": "markdown",
   "id": "ded33b12",
   "metadata": {},
   "source": [
    "### ***2. FITTA I DATI***"
   ]
  },
  {
   "cell_type": "code",
   "execution_count": null,
   "id": "06b7e705",
   "metadata": {},
   "outputs": [],
   "source": []
  },
  {
   "cell_type": "code",
   "execution_count": null,
   "id": "fe9bb20f",
   "metadata": {},
   "outputs": [],
   "source": []
  },
  {
   "cell_type": "markdown",
   "id": "41891ca8",
   "metadata": {},
   "source": [
    "### ***3. MODELLO DI REGRESSIONE LINEARE DEI SEGUENTI DATI***"
   ]
  },
  {
   "cell_type": "code",
   "execution_count": null,
   "id": "38f19a84",
   "metadata": {},
   "outputs": [],
   "source": []
  },
  {
   "cell_type": "code",
   "execution_count": null,
   "id": "89030f11",
   "metadata": {},
   "outputs": [],
   "source": []
  }
 ],
 "metadata": {
  "kernelspec": {
   "display_name": "ProgrammingLab2",
   "language": "python",
   "name": "python3"
  },
  "language_info": {
   "codemirror_mode": {
    "name": "ipython",
    "version": 3
   },
   "file_extension": ".py",
   "mimetype": "text/x-python",
   "name": "python",
   "nbconvert_exporter": "python",
   "pygments_lexer": "ipython3",
   "version": "3.10.16"
  }
 },
 "nbformat": 4,
 "nbformat_minor": 5
}
