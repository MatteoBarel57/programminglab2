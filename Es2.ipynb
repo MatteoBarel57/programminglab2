{
 "cells": [
  {
   "cell_type": "markdown",
   "metadata": {},
   "source": [
    "# **ESERCIZI LEZIONE 2**"
   ]
  },
  {
   "cell_type": "markdown",
   "metadata": {},
   "source": [
    "### ***1. INDICIZZAZIONE BOOLEANA***"
   ]
  },
  {
   "cell_type": "code",
   "execution_count": 2,
   "metadata": {},
   "outputs": [
    {
     "name": "stdout",
     "output_type": "stream",
     "text": [
      "[11 13 17 19]\n",
      "[2]\n"
     ]
    }
   ],
   "source": [
    "import numpy as np\n",
    "\n",
    "n_primi = np.array([2, 3, 5, 7, 11, 13, 17, 19])\n",
    "\n",
    "m_10 = n_primi[n_primi > 10]\n",
    "print(m_10)\n",
    "\n",
    "pari = n_primi[n_primi % 2 == 0]\n",
    "print(pari)"
   ]
  },
  {
   "cell_type": "markdown",
   "metadata": {},
   "source": [
    "### ***2. OPERAZIONI SU ARRAY***"
   ]
  },
  {
   "cell_type": "code",
   "execution_count": 3,
   "metadata": {},
   "outputs": [
    {
     "name": "stdout",
     "output_type": "stream",
     "text": [
      "[[14  6  9  6 12]\n",
      " [ 9  6 13  6  9]\n",
      " [11  5  5  7 12]\n",
      " [11 11 14 14 11]\n",
      " [14  9  5  9  9]]\n",
      "[[ 9  6 13  6  9]\n",
      " [11 11 14 14 11]]\n",
      "[11  5  5  7 12]\n",
      "[[1.27272727 1.2        1.8        0.85714286 1.        ]\n",
      " [0.81818182 1.2        2.6        0.85714286 0.75      ]\n",
      " [1.         1.         1.         1.         1.        ]\n",
      " [1.         2.2        2.8        2.         0.91666667]\n",
      " [1.27272727 1.8        1.         1.28571429 0.75      ]]\n"
     ]
    }
   ],
   "source": [
    "a = np.random.randint(5, 15, size = (5,5))\n",
    "print(a)\n",
    "\n",
    "b = a[[1,3]]\n",
    "print(b)\n",
    "\n",
    "c = a[2]\n",
    "print(c)\n",
    "\n",
    "print(a/c)"
   ]
  },
  {
   "cell_type": "markdown",
   "metadata": {},
   "source": [
    "### ***3. SELEZIONA IL NUMERO PIU' VICINO A 0.5 IN UN ARRAY CASUALE***"
   ]
  },
  {
   "cell_type": "code",
   "execution_count": 4,
   "metadata": {},
   "outputs": [
    {
     "name": "stdout",
     "output_type": "stream",
     "text": [
      "[0.49143728 0.51185775 0.39949387 0.36562665 0.51674606 0.63341734\n",
      " 0.65654252 0.55539273 0.27754477 0.287029  ]\n"
     ]
    }
   ],
   "source": [
    "array = np.random.rand(10,3)\n",
    "\n",
    "distanze = np.abs(array - 0.5)\n",
    "\n",
    "indici = np.argmin(distanze, axis=1)\n",
    "\n",
    "righe = np.arange(array.shape[0])\n",
    "valori_vicini = array[righe, indici]\n",
    "\n",
    "print(valori_vicini)"
   ]
  },
  {
   "cell_type": "markdown",
   "metadata": {},
   "source": [
    "### ***4. ANALISI DELLA FREQUENZA CARDIACA CON NUMPY***"
   ]
  },
  {
   "cell_type": "code",
   "execution_count": 5,
   "metadata": {},
   "outputs": [
    {
     "name": "stdout",
     "output_type": "stream",
     "text": [
      "52.38095238095239\n"
     ]
    }
   ],
   "source": [
    "freq = np.array([68, 65, 77, 110, 160, 161, 162, 161, 160, 161, 162, 163, 164, 163, 162, 100, 90, 97, 72, 60, 70])\n",
    "\n",
    "min = np.min(array)\n",
    "\n",
    "max = np.max(array)\n",
    "\n",
    "over120 = freq > 120\n",
    "\n",
    "perc = np.mean(over120)*100\n",
    "\n",
    "print(perc)"
   ]
  },
  {
   "cell_type": "markdown",
   "metadata": {},
   "source": [
    "### ***5. MANIPOLAZIONE DI VETTORI***"
   ]
  },
  {
   "cell_type": "code",
   "execution_count": 6,
   "metadata": {},
   "outputs": [
    {
     "name": "stdout",
     "output_type": "stream",
     "text": [
      "299250\n",
      "[ 50000 121037  55000  89000]\n",
      "339437\n",
      "40187\n"
     ]
    }
   ],
   "source": [
    "stipendio = np.array([50000, 105250, 55000, 89000])\n",
    "\n",
    "costo = np.sum(stipendio)\n",
    "print(costo)\n",
    "\n",
    "stipendio[1] = stipendio[1]*1.15\n",
    "print(stipendio)\n",
    "\n",
    "stipendio[0] = stipendio[0]*1.2\n",
    "\n",
    "stipendio[2] = stipendio[2]*1.1\n",
    "\n",
    "stipendio[3] = stipendio[3]*1.1\n",
    "\n",
    "costo_post_aumento = np.sum(stipendio)\n",
    "print(costo_post_aumento)\n",
    "\n",
    "print(costo_post_aumento-costo)"
   ]
  },
  {
   "cell_type": "markdown",
   "metadata": {},
   "source": [
    "### ***7. ANALISI DI UNA MATRICE***"
   ]
  },
  {
   "cell_type": "code",
   "execution_count": 7,
   "metadata": {},
   "outputs": [
    {
     "name": "stdout",
     "output_type": "stream",
     "text": [
      "[[   32 52000    12]\n",
      " [   40 63000    14]\n",
      " [   35 58000    13]]\n",
      "[52000 63000 58000]\n",
      "57666.666666666664\n"
     ]
    }
   ],
   "source": [
    "survey_matrix = np.array([ [25, 40000, 10], [32, 52000, 12], [40, 63000, 14], [29, 47000, 11], [35, 58000, 13] ])\n",
    "\n",
    "print(survey_matrix[survey_matrix[:,2] >= 12])\n",
    "\n",
    "print(survey_matrix[survey_matrix[:,2] >= 12][:,1])\n",
    "\n",
    "print(np.mean(survey_matrix[survey_matrix[:,2] >= 12][:,1]))"
   ]
  },
  {
   "cell_type": "markdown",
   "metadata": {},
   "source": [
    "### ***8. RIMPIAZZARE GLI OUTLIERS***"
   ]
  },
  {
   "cell_type": "code",
   "execution_count": 8,
   "metadata": {},
   "outputs": [
    {
     "name": "stdout",
     "output_type": "stream",
     "text": [
      "112\n"
     ]
    }
   ],
   "source": [
    "ages = np.array([92, 108, 75, 63, 62, 66, 90, 98, 97, 92, 60, 107, 90, 71, 97, 86, 55, 55,\n",
    "                 98, 57, 96, 104, 96, 94, 72, 98, 111, 98, 89, 69, 77, 92, 85, 101, 93, 100,\n",
    "                 90, 101, 96, 98, 999, 87, 106, 86, 108, 55, 67, 65, 68, 59, 67, 72, 57, 79,\n",
    "                 95, 67, 86, 70, 91, 111, 67, 75, 59, 88, 90, 99, 94, 65, 111, 103, 100, 70,\n",
    "                 63, 65, 100, 110, 999, 70, 57, 75, 56, 104, 111, 90, 74, 100, 90, 86, 88, 99,\n",
    "                 58, 103, 88, 103, 64, 96, 105, 89, 83, 65, 100, 62, 73, 105, 83, 105, 58, 96,\n",
    "                 77, 74, 95, 109, 91, 101, 91, 999, 63, 111, 97, 108, 75, 77, 73, 58, 94, 83,\n",
    "                 90, 61, 110, 107, 105, 85, 64, 66, 71, 107, 105, 72, 78, 66, 100, 102, 72, 999,\n",
    "                 74, 68, 73, 72, 90, 93, 99, 55, 92, 83, 58, 71, 89, 75, 98, 87, 999, 78,\n",
    "                 97, 71, 106, 83, 58, 81, 100, 72, 93, 70, 65, 60, 95, 107, 94, 77, 87, 90,\n",
    "                 82, 56, 99, 107, 86, 56, 73, 96, 64, 69, 64, 92, 57, 104, 110, 69, 66, 68,\n",
    "                 84, 89, 72, 80, 55, 75, 87, 57, 106, 69, 66, 62, 102, 76, 111, 999, 96, 83,\n",
    "                 84, 61, 102, 63, 107, 63, 76, 58, 83, 58, 61, 71, 77, 90, 74, 100, 103, 74,\n",
    "                 92, 102, 63, 87, 93, 61, 63, 86, 74, 98, 64, 999, 78, 95, 84, 81, 107, 85,\n",
    "                 79, 82, 89, 65, 107, 57, 74, 77, 97, 92, 58, 96, 105, 60, 55, 74, 57, 80,\n",
    "                 62, 85, 87, 62, 999, 71, 74, 70, 97, 59, 82, 96, 105, 70, 89, 105, 60, 70,\n",
    "                 87, 999, 64, 108, 107, 104, 85, 95, 108, 74, 64, 97, 89, 88, 79, 67, 81, 92,\n",
    "                 63, 80, 76, 94, 104, 67, 73, 61, 99, 96, 68, 90, 86, 79, 85, 111, 75, 98,\n",
    "                 81, 111, 108, 103, 85, 72, 108, 102, 999, 64, 107, 112, 66, 93, 89, 78, 66, 92,\n",
    "                 63, 101, 92, 64, 72, 56, 71, 64, 87, 78, 107, 85, 109, 95, 69, 111, 64, 72,\n",
    "                 55, 66, 99, 57, 78, 55, 58, 90, 88, 71, 90, 103, 92, 98, 67, 97, 77, 68,\n",
    "                 77, 59, 78, 69, 77, 81, 61, 99, 999, 85, 78, 104, 97, 95, 74, 70, 69, 83,\n",
    "                 68, 68, 77, 60, 85, 82, 93, 66, 71, 62, 64, 107, 999, 65, 78, 59, 83, 67,\n",
    "                 108,  58,  95, 106,  83,  79,  67,  59,  96,  90,  55,  55,  96, 109,  82,  55, 101,  58,\n",
    "                 97, 77, 60, 81, 999, 81, 75, 100, 66, 65, 105, 94, 101, 56, 999, 59, 105, 59,\n",
    "                 93, 56, 104, 74, 81, 62, 76, 65, 107, 60, 107, 98, 77, 86, 83, 104, 74, 69,\n",
    "                 97, 80, 91, 56, 108, 87, 65, 91, 93, 60, 91, 110, 107, 88, 96, 70, 60, 99,\n",
    "                 66, 91, 107, 65, 81, 109, 84, 106, 80, 92, 78, 84, 91, 59])\n",
    "\n",
    "valid_ages = np.delete(ages, np.where(ages == 999))\n",
    "\n",
    "print(np.max(valid_ages))"
   ]
  },
  {
   "cell_type": "markdown",
   "metadata": {},
   "source": [
    "### ***9. GENERAZIONE RANDOM DI STORIE***"
   ]
  },
  {
   "cell_type": "code",
   "execution_count": 9,
   "metadata": {},
   "outputs": [
    {
     "name": "stdout",
     "output_type": "stream",
     "text": [
      "In epoche passate, viveva una donna saggia che era molto orgogliosa dell'antico ATTEGGIAMENTO che proteggeva. Quando un anziano del villaggio venne a chiederle consiglio su come garantire al meglio un raccolto abbondante e le offrì il PRESENTAZIONE come dono, i suoi occhi si spalancarono e lei esclamò una sola parola, \"MATEMATICA\".\n",
      "Radunò il villaggio e, per i successivi 100 giorni, su sua richiesta, gli abitanti cercarono nella foresta un HOT DOG.\n",
      "Nel 101° giorno, il bambino più giovane del villaggio trovò ciò che stavano cercando e tutti corsero dalla donna saggia per donarglielo.\n",
      "Con un sorriso da un orecchio all’altro, e cantando canti di festa, la donna saggia guardò i suoi compaesani e disse: \"Ora è giunto il tempo del banchetto - nessuno rimarrà mai più senza IGNORANZA !\" Ci fu grande gioia e celebrazione.\n"
     ]
    }
   ],
   "source": [
    "lista_parole = [\n",
    "    'INSEDIAMENTO', 'SEPARAZIONE', 'DIFFERENZA', 'APPLICAZIONE', 'ATTEGGIAMENTO', 'VERDURA', 'IMPERO', 'RICEVIMENTO',\n",
    "    'IGNORANZA', 'BIOGRAFIA', 'VISIONE', 'AGENTE DI POLIZIA', 'PROVA', 'PRESTAZIONE', 'PRESENTAZIONE', 'PARENTE',\n",
    "    'GIUSTIFICAZIONE', 'FILOSOFIA', 'DIREZIONE', 'BENEFICIARIO', 'BATTERIA', 'CERIMONIA', 'AGONIA', 'RECUPERO',\n",
    "    'ALFABETIZZAZIONE', 'CONSEGNA', 'SERBATOIO', 'VOLONTARIO', 'DEPOSITO', 'BIRILLO DA BOWLING', 'NEMICO', 'ANNUNCIO',\n",
    "    'CARAMELLA ZUCCHERATA', 'FULMINE', 'PALLONCINO', 'COPERTA', 'SCOPERTA', 'PENALITÀ', 'GENERALE', 'ALPACA',\n",
    "    'VANTAGGIO', 'HOT DOG', 'ABITO', 'MATEMATICA', 'VARIANTE'\n",
    "]\n",
    "\n",
    "parole = np.random.choice(lista_parole, 5, replace=True)\n",
    "frase = \"\"\"In epoche passate, viveva una donna saggia che era molto orgogliosa dell'antico __ che proteggeva. Quando un anziano del villaggio venne a chiederle consiglio su come garantire al meglio un raccolto abbondante e le offrì il __ come dono, i suoi occhi si spalancarono e lei esclamò una sola parola, \"__\".\n",
    "Radunò il villaggio e, per i successivi 100 giorni, su sua richiesta, gli abitanti cercarono nella foresta un __.\n",
    "Nel 101° giorno, il bambino più giovane del villaggio trovò ciò che stavano cercando e tutti corsero dalla donna saggia per donarglielo.\n",
    "Con un sorriso da un orecchio all’altro, e cantando canti di festa, la donna saggia guardò i suoi compaesani e disse: \"Ora è giunto il tempo del banchetto - nessuno rimarrà mai più senza __ !\" Ci fu grande gioia e celebrazione.\"\"\"\n",
    "\n",
    "storia = frase.replace(\"__\", \"{}\", 5).format(*parole)\n",
    "\n",
    "print(storia)"
   ]
  }
 ],
 "metadata": {
  "kernelspec": {
   "display_name": "ProgrammingLab2",
   "language": "python",
   "name": "python3"
  },
  "language_info": {
   "codemirror_mode": {
    "name": "ipython",
    "version": 3
   },
   "file_extension": ".py",
   "mimetype": "text/x-python",
   "name": "python",
   "nbconvert_exporter": "python",
   "pygments_lexer": "ipython3",
   "version": "3.10.16"
  }
 },
 "nbformat": 4,
 "nbformat_minor": 2
}
