{
 "cells": [
  {
   "cell_type": "markdown",
   "metadata": {},
   "source": [
    "# **ESERCIZI LEZIONE 2**"
   ]
  },
  {
   "cell_type": "markdown",
   "metadata": {},
   "source": [
    "### ***1. INDICIZZAZIONE BOOLEANA***"
   ]
  },
  {
   "cell_type": "code",
   "execution_count": 72,
   "metadata": {},
   "outputs": [
    {
     "data": {
      "text/plain": [
       "array([2])"
      ]
     },
     "execution_count": 72,
     "metadata": {},
     "output_type": "execute_result"
    }
   ],
   "source": [
    "import numpy as np\n",
    "\n",
    "v = np.array([2,3,5,7,11,13,17,19])\n",
    "\n",
    "v[v>10]\n",
    "\n",
    "v[v%2==0]\n"
   ]
  },
  {
   "cell_type": "markdown",
   "metadata": {},
   "source": [
    "### ***2. OPERAZIONI SU ARRAY***"
   ]
  },
  {
   "cell_type": "code",
   "execution_count": 73,
   "metadata": {},
   "outputs": [
    {
     "name": "stdout",
     "output_type": "stream",
     "text": [
      "[[9 4 2 4]\n",
      " [7 6 1 1]\n",
      " [4 5 4 2]\n",
      " [4 7 9 1]]\n",
      "[[7 6 1 1]\n",
      " [4 7 9 1]]\n",
      "[4 5 4 2]\n",
      "[[2.25 0.8  0.5  2.  ]\n",
      " [1.75 1.2  0.25 0.5 ]\n",
      " [1.   1.   1.   1.  ]\n",
      " [1.   1.4  2.25 0.5 ]]\n"
     ]
    }
   ],
   "source": [
    "import numpy as np\n",
    "\n",
    "a = np.random.randint(1,10,(4,4))\n",
    "print(a)\n",
    "\n",
    "b = a[[1,3],:]\n",
    "print(b)\n",
    "\n",
    "c = a[2,:]\n",
    "print(c)\n",
    "\n",
    "result = a/c\n",
    "print(result)\n"
   ]
  },
  {
   "cell_type": "markdown",
   "metadata": {},
   "source": [
    "### ***3. SELEZIONA IL NUMERO PIU' VICINO A 0.5 IN UN ARRAY CASUALE***"
   ]
  },
  {
   "cell_type": "code",
   "execution_count": 74,
   "metadata": {},
   "outputs": [
    {
     "name": "stdout",
     "output_type": "stream",
     "text": [
      "Array a:\n",
      " [[0.26013496 0.03489386 0.64875097]\n",
      " [0.66120876 0.79088234 0.39501653]\n",
      " [0.94186985 0.64812987 0.88404938]\n",
      " [0.16921869 0.35410287 0.32309142]\n",
      " [0.28355512 0.2057366  0.86833568]\n",
      " [0.24116189 0.11477416 0.71477893]\n",
      " [0.67880596 0.00612642 0.57106539]\n",
      " [0.08398088 0.57167806 0.40614326]\n",
      " [0.81144784 0.45840582 0.36543366]\n",
      " [0.80047934 0.65350094 0.6295436 ]]\n",
      "\n",
      "Valori più vicini a 0.5 per ogni riga:\n",
      " [0.64875097 0.39501653 0.64812987 0.35410287 0.28355512 0.71477893\n",
      " 0.57106539 0.57167806 0.45840582 0.6295436 ]\n"
     ]
    }
   ],
   "source": [
    "import numpy as np\n",
    "\n",
    "a = np.random.rand(10, 3)\n",
    "print(\"Array a:\\n\", a)\n",
    "\n",
    "distanze = np.abs(a - 0.5)\n",
    "\n",
    "indici_minimi = np.argmin(distanze, axis=1)\n",
    "\n",
    "valori_selezionati = a[np.arange(a.shape[0]), indici_minimi]\n",
    "\n",
    "print(\"\\nValori più vicini a 0.5 per ogni riga:\\n\", valori_selezionati)\n"
   ]
  },
  {
   "cell_type": "markdown",
   "metadata": {},
   "source": [
    "### ***4. ANALISI DELLA FREQUENZA CARDIACA CON NUMPY***"
   ]
  },
  {
   "cell_type": "code",
   "execution_count": 75,
   "metadata": {},
   "outputs": [
    {
     "name": "stdout",
     "output_type": "stream",
     "text": [
      "52.38095238095239\n"
     ]
    }
   ],
   "source": [
    "import numpy as np\n",
    "\n",
    "frequenze = np.array([68, 65, 77, 110, 160, 161, 162, 161, 160, 161, 162, 163, 164, 163, 162, 100, 90, 97, 72, 60, 70])\n",
    "\n",
    "frequenza_min = np.min(frequenze)\n",
    "\n",
    "frequenza_max = np.max(frequenze)\n",
    "\n",
    "sforzo = frequenze>120\n",
    "\n",
    "percentuale = np.mean(sforzo)*100\n",
    "\n",
    "print(percentuale)"
   ]
  },
  {
   "cell_type": "markdown",
   "metadata": {},
   "source": [
    "### ***5. MAIPOLAZIONE DI VETTORI***"
   ]
  },
  {
   "cell_type": "code",
   "execution_count": 76,
   "metadata": {},
   "outputs": [
    {
     "name": "stdout",
     "output_type": "stream",
     "text": [
      "[ 50000 121037  55000  89000]\n",
      "[ 50000.  121037.5  55000.   89000. ]\n",
      "40187.5\n"
     ]
    }
   ],
   "source": [
    "import numpy as np\n",
    "\n",
    "stipendi = np.array([50000,105250,55000,89000])\n",
    "\n",
    "costo = np.sum(stipendi)\n",
    "\n",
    "stipendi[1] *= 1.15\n",
    "print(stipendi)\n",
    "\n",
    "stipendi2 = np.array([50000,105250,55000,89000], dtype=np.float64)\n",
    "\n",
    "stipendi2[1] *= 1.15\n",
    "print(stipendi2)\n",
    "\n",
    "stipendi2[0] *= 1.2\n",
    "\n",
    "stipendi2[[2, 3]] *= 1.1\n",
    "\n",
    "costo_finale = np.sum(stipendi2)\n",
    "\n",
    "differenza = costo_finale-costo\n",
    "\n",
    "print(differenza)\n",
    "\n"
   ]
  }
 ],
 "metadata": {
  "kernelspec": {
   "display_name": "Python 3",
   "language": "python",
   "name": "python3"
  },
  "language_info": {
   "codemirror_mode": {
    "name": "ipython",
    "version": 3
   },
   "file_extension": ".py",
   "mimetype": "text/x-python",
   "name": "python",
   "nbconvert_exporter": "python",
   "pygments_lexer": "ipython3",
   "version": "3.10.16"
  }
 },
 "nbformat": 4,
 "nbformat_minor": 2
}
